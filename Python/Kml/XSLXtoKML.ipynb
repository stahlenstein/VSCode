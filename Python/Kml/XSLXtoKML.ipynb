{
 "cells": [
  {
   "cell_type": "code",
   "execution_count": 58,
   "metadata": {},
   "outputs": [],
   "source": [
    "import simplekml\n",
    "import pandas as pd"
   ]
  },
  {
   "cell_type": "code",
   "execution_count": null,
   "metadata": {},
   "outputs": [],
   "source": [
    "# create a dictionary of the folders and their associated routes\n",
    "folders = {\n",
    "    'Silver Creek': [10, 11, 12, 13, 14, 15, 16, 17, 18, 19, 20, 23, 24, 25, 26, 27, 28, 29],\n",
    "    'Lindale': [21, 22, 30, 31, 32, 33],\n",
    "    'Kingston': [42, 43, 44, 45, 46, 47],\n",
    "    'Shannon': [50, 51, 52, 53, 61, 62],\n",
    "    'Armuchee': [68, 69, 70, 71, 72, 73, 74, 75, 77, 78, 79, 88],\n",
    "    'Coosa': [80, 81, 82, 83, 84, 85, 91]\n",
    "}"
   ]
  },
  {
   "cell_type": "code",
   "execution_count": 59,
   "metadata": {},
   "outputs": [],
   "source": [
    "# read data from excel file\n",
    "df = pd.read_excel(r'C:\\Users\\Marvin\\Documents\\VSCode\\Python\\Kml\\GPS.xlsx')"
   ]
  },
  {
   "cell_type": "code",
   "execution_count": 60,
   "metadata": {},
   "outputs": [],
   "source": [
    "# convert the \"Account Number\" column to string values\n",
    "df['Account Number'] = df['Account Number'].astype(pd.StringDtype())\n",
    "\n",
    "# Remove deciaml and decimal numerical value from the \"Account Number\" column\n",
    "df['Account'] = df['Account Number'].str.replace(\".0\", \"\", regex=False)\n",
    "\n",
    "# add leading zeros to 'Account' column\n",
    "df['Account'] = df['Account'].apply('{:0>6}'.format)"
   ]
  },
  {
   "cell_type": "code",
   "execution_count": 61,
   "metadata": {},
   "outputs": [],
   "source": [
    "# Create the kml object\n",
    "kml = simplekml.Kml(visibility=0)"
   ]
  },
  {
   "cell_type": "code",
   "execution_count": 62,
   "metadata": {},
   "outputs": [],
   "source": [
    "# iterate over each folder in the dictionary\n",
    "for folder_name, folder_routes in folders.items():\n",
    "    # create a folder for the current folder name\n",
    "    kml_folder = kml.newfolder(name=folder_name)\n",
    "    # iterate over each route number in the current folder\n",
    "    for route in folder_routes:\n",
    "        # create a folder for the current route number\n",
    "        route_folder = kml_folder.newfolder(name=str(route))\n",
    "        # iterate over each row in the dataframe where the route number matches the current route\n",
    "\n",
    "        for index, row in df[df['Route'] == route].iterrows():\n",
    "            # create a placemark with the latitude, longitude, and name from the dataframe\n",
    "            placemark = route_folder.newpoint(name= row['Address'], description=(f\"\\n Account #: {row['Account']} \\n Meter #: {row['Meter Number']} \\n Route: {row['Route']} \\n\"), coords=[(row['Longitude'], row['Latitude'])])"
   ]
  }
 ],
 "metadata": {
  "kernelspec": {
   "display_name": ".venv",
   "language": "python",
   "name": "python3"
  },
  "language_info": {
   "codemirror_mode": {
    "name": "ipython",
    "version": 3
   },
   "file_extension": ".py",
   "mimetype": "text/x-python",
   "name": "python",
   "nbconvert_exporter": "python",
   "pygments_lexer": "ipython3",
   "version": "3.11.0"
  },
  "orig_nbformat": 4
 },
 "nbformat": 4,
 "nbformat_minor": 2
}
